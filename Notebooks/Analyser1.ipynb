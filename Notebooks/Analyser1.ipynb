{
 "cells": [
  {
   "cell_type": "code",
   "execution_count": 1,
   "metadata": {},
   "outputs": [],
   "source": [
    "import pandas as pd\n",
    "import numpy as np\n",
    "import matplotlib.pyplot as plt\n",
    "import glob\n",
    "import datetime\n",
    "import math as m\n",
    "from scipy import optimize as sp"
   ]
  },
  {
   "cell_type": "code",
   "execution_count": 2,
   "metadata": {},
   "outputs": [],
   "source": [
    "def MBdis(x, Amp, k):\n",
    "    return Amp*(x**2)*np.power(m.e, -k*x**2)\n",
    "    "
   ]
  },
  {
   "cell_type": "code",
   "execution_count": 3,
   "metadata": {},
   "outputs": [],
   "source": [
    "def importer(filename):\n",
    "    data = pd.read_csv(filename, sep = \"\\t\")\n",
    "    \n",
    "    #print(data.keys())\n",
    "    \n",
    "    time = data[\"time\"]\n",
    "    Susceptable = data['susceptible (total) median']\n",
    "    Exposed = data['exposed (total) median']\n",
    "    Infected = data['infectious (total) median']\n",
    "    Recovered = np.array(data['cumulative recovered (total) median'])\n",
    "    Fatalities = np.array(data['weeklyFatality (total) median'])\n",
    "    \n",
    "    samples = len(time)\n",
    "    recovered = [0]\n",
    "    for i in range(0,samples-1):\n",
    "        recovered.append(Recovered[i+1]-Recovered[i])\n",
    "    \n",
    "    return time, Susceptable, Exposed, Infected, recovered, Fatalities"
   ]
  },
  {
   "cell_type": "code",

   "execution_count": 4,

   "metadata": {},
   "outputs": [],
   "source": [
    "def datacollector(folder):\n",
    "    ttime = []\n",
    "    tsus = []\n",
    "    texp = []\n",
    "    tinf = []\n",
    "    trec = []\n",
    "    tfat = []\n",
    "    xvar = [] #The file name which corresponds by convention to the independant variable in exp.\n",
    "    \n",
    "    \n",
    "    files = glob.glob(folder + \"*.tsv\")\n",
    "    for filename in files:\n",
    "        time, susceptable, exposed, infected, recovered, fatalities = importer(filename)\n",
    "        ttime.append(time)\n",
    "        tsus.append(susceptable)\n",
    "        texp.append(exposed)\n",
    "        tinf.append(infected)\n",
    "        trec.append(recovered)\n",
    "        tfat.append(fatalities)\n",
    "        i = filename.find(folder)+len(folder) +1\n",
    "        j = filename.find(\".tsv\")\n",
    "        xvar.append(filename[i:j])\n",
    "\n",
    "    \n",
    "    return ttime, tsus, texp, tinf, trec, tfat, xvar\n",
    "    \n"
   ]
  },
  {
   "cell_type": "code",

   "execution_count": 5,

   "metadata": {},
   "outputs": [],
   "source": [
    "def date_formatter(dates):\n",
    "    ld_latency = []\n",
    "    for i in range(0,len(dates)):\n",
    "        pos = dates[i].find(\".\")\n",
    "        month = int(dates[i][0:pos])\n",
    "        day = int(dates[i][pos+1: pos+3])\n",
    "        dates[i] = datetime.date(2020, month, day)\n",
    "        \n",
    "        #ld_latency.append((dates[i] - dates[0]).days)\n",
    "        #np.array(ld_latency)\n",
    "    return dates"
   ]
  },
  {
   "cell_type": "code",

   "execution_count": 6,

   "metadata": {},
   "outputs": [],
   "source": [
    "def cumFat(tfat, dates, folder):\n",
    "    totalFatalities = []\n",
    "    for i in range(0, len(tfat)):\n",
    "        if dates[i] != \"control\":\n",
    "            totalFatalities.append(sum(tfat[i]))\n",
    "        else:\n",
    "            controlfat = sum(tfat[i])\n",
    "            tfat.pop(i)\n",
    "            dates.pop(i)\n",
    "    totalFatalities = controlfat- np.array(totalFatalities)\n",
    "    dates = date_formatter(dates)\n",
    "    return dates, totalFatalities\n"
   ]
  },
  {
   "cell_type": "code",

   "execution_count": 7,

   "metadata": {},
   "outputs": [
    {
     "name": "stdout",
     "output_type": "stream",
     "text": [
      "['2.08', '2.22', '3.28', '3.14', 'ontrol', '4.18', '3.07', '3.21', '4.11', '4.04', '2.15', '2.01', '2.29']\n"
     ]
    },
    {
     "ename": "UnboundLocalError",
     "evalue": "local variable 'controlfat' referenced before assignment",
     "output_type": "error",
     "traceback": [
      "\u001b[0;31m---------------------------------------------------------------------------\u001b[0m",
      "\u001b[0;31mUnboundLocalError\u001b[0m                         Traceback (most recent call last)",
      "\u001b[0;32m<ipython-input-64-d85b0ace93ef>\u001b[0m in \u001b[0;36m<module>\u001b[0;34m\u001b[0m\n\u001b[1;32m     25\u001b[0m \u001b[0;34m\u001b[0m\u001b[0m\n\u001b[1;32m     26\u001b[0m     \u001b[0mfatax\u001b[0m\u001b[0;34m.\u001b[0m\u001b[0mlegend\u001b[0m\u001b[0;34m(\u001b[0m\u001b[0;34m)\u001b[0m\u001b[0;34m\u001b[0m\u001b[0;34m\u001b[0m\u001b[0m\n\u001b[0;32m---> 27\u001b[0;31m \u001b[0mmain\u001b[0m\u001b[0;34m(\u001b[0m\u001b[0;34m)\u001b[0m\u001b[0;34m\u001b[0m\u001b[0;34m\u001b[0m\u001b[0m\n\u001b[0m",
      "\u001b[0;32m<ipython-input-64-d85b0ace93ef>\u001b[0m in \u001b[0;36mmain\u001b[0;34m()\u001b[0m\n\u001b[1;32m     14\u001b[0m         \u001b[0mttime\u001b[0m\u001b[0;34m,\u001b[0m \u001b[0mtsus\u001b[0m\u001b[0;34m,\u001b[0m \u001b[0mtexp\u001b[0m\u001b[0;34m,\u001b[0m \u001b[0mtinf\u001b[0m\u001b[0;34m,\u001b[0m \u001b[0mtrec\u001b[0m\u001b[0;34m,\u001b[0m \u001b[0mtfat\u001b[0m\u001b[0;34m,\u001b[0m \u001b[0mxvar\u001b[0m  \u001b[0;34m=\u001b[0m \u001b[0mdatacollector\u001b[0m\u001b[0;34m(\u001b[0m\u001b[0mfolder\u001b[0m\u001b[0;34m)\u001b[0m\u001b[0;34m\u001b[0m\u001b[0;34m\u001b[0m\u001b[0m\n\u001b[1;32m     15\u001b[0m         \u001b[0mprint\u001b[0m\u001b[0;34m(\u001b[0m\u001b[0mxvar\u001b[0m\u001b[0;34m)\u001b[0m\u001b[0;34m\u001b[0m\u001b[0;34m\u001b[0m\u001b[0m\n\u001b[0;32m---> 16\u001b[0;31m         \u001b[0mdates\u001b[0m\u001b[0;34m,\u001b[0m \u001b[0mtotalFatalities\u001b[0m \u001b[0;34m=\u001b[0m \u001b[0mcumFat\u001b[0m\u001b[0;34m(\u001b[0m\u001b[0mtfat\u001b[0m\u001b[0;34m,\u001b[0m \u001b[0mxvar\u001b[0m\u001b[0;34m,\u001b[0m \u001b[0mfolder\u001b[0m\u001b[0;34m)\u001b[0m\u001b[0;34m\u001b[0m\u001b[0;34m\u001b[0m\u001b[0m\n\u001b[0m\u001b[1;32m     17\u001b[0m         \u001b[0mfolder\u001b[0m \u001b[0;34m=\u001b[0m \u001b[0mfolder\u001b[0m\u001b[0;34m.\u001b[0m\u001b[0mreplace\u001b[0m\u001b[0;34m(\u001b[0m\u001b[0;34m\"/\"\u001b[0m\u001b[0;34m,\u001b[0m \u001b[0;34m\"\"\u001b[0m\u001b[0;34m)\u001b[0m\u001b[0;34m\u001b[0m\u001b[0;34m\u001b[0m\u001b[0m\n\u001b[1;32m     18\u001b[0m         \u001b[0mfatax\u001b[0m\u001b[0;34m.\u001b[0m\u001b[0mscatter\u001b[0m\u001b[0;34m(\u001b[0m\u001b[0mdates\u001b[0m\u001b[0;34m,\u001b[0m \u001b[0mtotalFatalities\u001b[0m\u001b[0;34m,\u001b[0m \u001b[0mlabel\u001b[0m \u001b[0;34m=\u001b[0m \u001b[0mfolder\u001b[0m\u001b[0;34m)\u001b[0m\u001b[0;34m\u001b[0m\u001b[0;34m\u001b[0m\u001b[0m\n",
      "\u001b[0;32m<ipython-input-63-f589741055be>\u001b[0m in \u001b[0;36mcumFat\u001b[0;34m(tfat, dates, folder)\u001b[0m\n\u001b[1;32m      8\u001b[0m             \u001b[0mtfat\u001b[0m\u001b[0;34m.\u001b[0m\u001b[0mpop\u001b[0m\u001b[0;34m(\u001b[0m\u001b[0mi\u001b[0m\u001b[0;34m)\u001b[0m\u001b[0;34m\u001b[0m\u001b[0;34m\u001b[0m\u001b[0m\n\u001b[1;32m      9\u001b[0m             \u001b[0mdates\u001b[0m\u001b[0;34m.\u001b[0m\u001b[0mpop\u001b[0m\u001b[0;34m(\u001b[0m\u001b[0mi\u001b[0m\u001b[0;34m)\u001b[0m\u001b[0;34m\u001b[0m\u001b[0;34m\u001b[0m\u001b[0m\n\u001b[0;32m---> 10\u001b[0;31m     \u001b[0mtotalFatalities\u001b[0m \u001b[0;34m=\u001b[0m \u001b[0mcontrolfat\u001b[0m\u001b[0;34m-\u001b[0m \u001b[0mnp\u001b[0m\u001b[0;34m.\u001b[0m\u001b[0marray\u001b[0m\u001b[0;34m(\u001b[0m\u001b[0mtotalFatalities\u001b[0m\u001b[0;34m)\u001b[0m\u001b[0;34m\u001b[0m\u001b[0;34m\u001b[0m\u001b[0m\n\u001b[0m\u001b[1;32m     11\u001b[0m     \u001b[0mdates\u001b[0m \u001b[0;34m=\u001b[0m \u001b[0mdate_formatter\u001b[0m\u001b[0;34m(\u001b[0m\u001b[0mdates\u001b[0m\u001b[0;34m)\u001b[0m\u001b[0;34m\u001b[0m\u001b[0;34m\u001b[0m\u001b[0m\n\u001b[1;32m     12\u001b[0m     \u001b[0;32mreturn\u001b[0m \u001b[0mdates\u001b[0m\u001b[0;34m,\u001b[0m \u001b[0mtotalFatalities\u001b[0m\u001b[0;34m\u001b[0m\u001b[0;34m\u001b[0m\u001b[0m\n",
      "\u001b[0;31mUnboundLocalError\u001b[0m: local variable 'controlfat' referenced before assignment"
     ]
    },
    {
     "data": {

      "image/png": "[encoded data removed]",

      "text/plain": [
       "<Figure size 432x288 with 1 Axes>"
      ]
     },
     "metadata": {
      "needs_background": "light"
     },
     "output_type": "display_data"
    }
   ],
   "source": [
    "def main():\n",
    "    folders = [\"1 Week/\", \"2 Weeks/\", \"4 Weeks/\"]#\n",
    "    #folders = [\"4 Weeks/\"]\n",
    "    fatfig, fatax = plt.subplots()\n",
    "    fatax.set(title=\"Cumlative avoided deaths for different timings of one and two week lockdowns\",\n",
    "              xlabel=\"Start of lockdown\",\n",
    "              ylabel=\"Cumlative avoided deaths\")\n",
    "    fatfig.autofmt_xdate()\n",
    "    plt.xticks(rotation=45)\n",
    "    #plt.yscale(\"log\")\n",
    "    \n",
    "    \n",
    "    for folder in folders:\n",
    "        ttime, tsus, texp, tinf, trec, tfat, xvar  = datacollector(folder)\n",
    "        print(xvar)\n",
    "        dates, totalFatalities = cumFat(tfat, xvar, folder)\n",
    "        folder = folder.replace(\"/\", \"\")    \n",
    "        fatax.scatter(dates, totalFatalities, label = folder)\n",
    "        \n",
    "        #Fitting code\n",
    "        #params, pcov  = sp.curve_fit(MBdis, dates+1, totalFatalities)\n",
    "        #time_fit = np.linspace(dates[0], dates[-1], 100)\n",
    "        #ydata = MBdis(time_fit, params[0], params[1])\n",
    "        #fatax.plot(time_fit, ydata)\n",
    "        \n",
    "    fatax.legend()\n",
    "main()\n"
   ]
  },
  {
   "cell_type": "code",
   "execution_count": null,
   "metadata": {},
   "outputs": [],
   "source": []
  },
  {
   "cell_type": "code",
   "execution_count": null,
   "metadata": {},
   "outputs": [],
   "source": []
  }
 ],
 "metadata": {
  "kernelspec": {
   "display_name": "Python 3",
   "language": "python",
   "name": "python3"
  },
  "language_info": {
   "codemirror_mode": {
    "name": "ipython",
    "version": 3
   },
   "file_extension": ".py",
   "mimetype": "text/x-python",
   "name": "python",
   "nbconvert_exporter": "python",
   "pygments_lexer": "ipython3",

   "version": "3.7.6"

  }
 },
 "nbformat": 4,
 "nbformat_minor": 2
}
