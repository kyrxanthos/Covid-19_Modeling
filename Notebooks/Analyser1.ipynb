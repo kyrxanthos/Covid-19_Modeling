{
 "cells": [
  {
   "cell_type": "code",
   "execution_count": 11,
   "metadata": {},
   "outputs": [],
   "source": [
    "import pandas as pd\n",
    "import numpy as np\n",
    "import matplotlib.pyplot as plt\n",
    "import glob"
   ]
  },
  {
   "cell_type": "code",
   "execution_count": 12,
   "metadata": {},
   "outputs": [],
   "source": [
    "def importer(filename):\n",
    "    data = pd.read_csv(filename, sep = \"\\t\")\n",
    "    \n",
    "    #print(data.keys())\n",
    "    \n",
    "    time = data[\"time\"]\n",
    "    Susceptable = data['susceptible (total) median']\n",
    "    Exposed = data['exposed (total) median']\n",
    "    Infected = data['infectious (total) median']\n",
    "    Recovered = np.array(data['cumulative recovered (total) median'])\n",
    "    \n",
    "    samples = len(time)\n",
    "    recovered = [0]\n",
    "    for i in range(0,samples-1):\n",
    "        recovered.append(Recovered[i+1]-Recovered[i])\n",
    "    \n",
    "    return time, Susceptable, Exposed, Infected, recovered"
   ]
  },
  {
   "cell_type": "code",
   "execution_count": 20,
   "metadata": {},
   "outputs": [
    {
     "name": "stdout",
     "output_type": "stream",
     "text": [
      "['Test1\\\\test1.tsv', 'Test1\\\\test2.tsv']\n"
     ]
    },
    {
     "data": {
      "image/png": "[encoded data removed]",
      "text/plain": [
       "<Figure size 432x288 with 2 Axes>"
      ]
     },
     "metadata": {
      "needs_background": "light"
     },
     "output_type": "display_data"
    }
   ],
   "source": [
    "def datacollector():\n",
    "    ttime = []\n",
    "    tsus = []\n",
    "    texp = []\n",
    "    tinf = []\n",
    "    trec = []\n",
    "    \n",
    "    files = glob.glob(\"Test1/*.tsv\")\n",
    "    print(files)\n",
    "    for filename in files:\n",
    "        time, susceptable, exposed, infected, recovered = importer(filename)\n",
    "        ttime.append(time)\n",
    "        tsus.append(susceptable)\n",
    "        texp.append(exposed)\n",
    "        tinf.append(infected)\n",
    "        trec.append(recovered)\n",
    "        \n",
    "    fig, ax = plt.subplots(1,2)\n",
    "    ax[0].plot(ttime[0], trec[0])\n",
    "    ax[1].plot(ttime[1],trec[1])\n",
    "    \n",
    "datacollector()"
   ]
  },
  {
   "cell_type": "code",
   "execution_count": null,
   "metadata": {},
   "outputs": [],
   "source": []
  }
 ],
 "metadata": {
  "kernelspec": {
   "display_name": "Python 3",
   "language": "python",
   "name": "python3"
  },
  "language_info": {
   "codemirror_mode": {
    "name": "ipython",
    "version": 3
   },
   "file_extension": ".py",
   "mimetype": "text/x-python",
   "name": "python",
   "nbconvert_exporter": "python",
   "pygments_lexer": "ipython3",
   "version": "3.7.0"
  }
 },
 "nbformat": 4,
 "nbformat_minor": 2
}
