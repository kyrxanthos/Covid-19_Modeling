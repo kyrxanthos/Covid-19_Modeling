{
 "cells": [
  {
   "cell_type": "code",
   "execution_count": 112,
   "metadata": {},
   "outputs": [],
   "source": [
    "import pandas as pd\n",
    "import numpy as np\n",
    "import matplotlib.pyplot as plt\n",
    "import glob\n",
    "import datetime"
   ]
  },
  {
   "cell_type": "code",
   "execution_count": 98,
   "metadata": {},
   "outputs": [],
   "source": [
    "def importer(filename):\n",
    "    data = pd.read_csv(filename, sep = \"\\t\")\n",
    "    \n",
    "    #print(data.keys())\n",
    "    \n",
    "    time = data[\"time\"]\n",
    "    Susceptable = data['susceptible (total) median']\n",
    "    Exposed = data['exposed (total) median']\n",
    "    Infected = data['infectious (total) median']\n",
    "    Recovered = np.array(data['cumulative recovered (total) median'])\n",
    "    Fatalities = np.array(data['weeklyFatality (total) median'])\n",
    "    \n",
    "    samples = len(time)\n",
    "    recovered = [0]\n",
    "    for i in range(0,samples-1):\n",
    "        recovered.append(Recovered[i+1]-Recovered[i])\n",
    "    \n",
    "    return time, Susceptable, Exposed, Infected, recovered, Fatalities"
   ]
  },
  {
   "cell_type": "code",
   "execution_count": 104,
   "metadata": {},
   "outputs": [],
   "source": [
    "def datacollector(folder):\n",
    "    ttime = []\n",
    "    tsus = []\n",
    "    texp = []\n",
    "    tinf = []\n",
    "    trec = []\n",
    "    tfat = []\n",
    "    xvar = [] #The file name which corresponds by convention to the independant variable in exp.\n",
    "    \n",
    "    \n",
    "    files = glob.glob(folder + \"*.tsv\")\n",
    "    for filename in files:\n",
    "        time, susceptable, exposed, infected, recovered, fatalities = importer(filename)\n",
    "        ttime.append(time)\n",
    "        tsus.append(susceptable)\n",
    "        texp.append(exposed)\n",
    "        tinf.append(infected)\n",
    "        trec.append(recovered)\n",
    "        tfat.append(fatalities)\n",
    "        i = filename.find(folder)+len(folder)+1\n",
    "        j = filename.find(\".tsv\")\n",
    "        xvar.append(filename[i:j])\n",
    "\n",
    "    \n",
    "    return ttime, tsus, texp, tinf, trec, tfat, xvar\n",
    "    \n"
   ]
  },
  {
   "cell_type": "code",
   "execution_count": 128,
   "metadata": {},
   "outputs": [],
   "source": [
    "def date_formatter(dates):\n",
    "    for date in dates:\n",
    "        i = date.find(\".\")\n",
    "        month = int(date[0:i])\n",
    "        day = int(date[i+1: i+3])\n",
    "        date = datetime.date(2020, month, day)\n",
    "    return dates "
   ]
  },
  {
   "cell_type": "code",
   "execution_count": 129,
   "metadata": {},
   "outputs": [],
   "source": [
    "def cumFat(fatax, folder):\n",
    "    ttime, tsus, texp, tinf, trec, tfat, dates  = datacollector(folder)\n",
    "    dates = date_formatter(dates)\n",
    "    totalFatalities = []\n",
    "    for fatalities in tfat:\n",
    "        totalFatalities.append(sum(fatalities))\n",
    "    \n",
    "    totalFatalities = np.array(totalFatalities)/10**6\n",
    "    fatax.scatter(dates, totalFatalities)\n",
    "    return fatax\n"
   ]
  },
  {
   "cell_type": "code",
   "execution_count": 130,
   "metadata": {},
   "outputs": [
    {
     "data": {
      "image/png": "[encoded data removed]",
      "text/plain": [
       "<Figure size 432x288 with 1 Axes>"
      ]
     },
     "metadata": {
      "needs_background": "light"
     },
     "output_type": "display_data"
    }
   ],
   "source": [
    "def main():\n",
    "    folders = [\"Timings1week/\", \"Timings2Weeks/\"]\n",
    "    fatfig, fatax = plt.subplots()\n",
    "    fatax.set(title=\"Cumlative Fatalities for different timings of a 2 week lockdown\",\n",
    "              xlabel=\"Start of two week lockdown\",\n",
    "              ylabel=\"Cumlative fatalities / million\")\n",
    "    fatfig.autofmt_xdate()\n",
    "    plt.xticks(rotation=45)           \n",
    "    \n",
    "    for folder in folders:\n",
    "        fatax = cumFat(fatax, folder)\n",
    "main()\n",
    "               \n",
    "    \n",
    "    "
   ]
  },
  {
   "cell_type": "code",
   "execution_count": null,
   "metadata": {},
   "outputs": [],
   "source": []
  }
 ],
 "metadata": {
  "kernelspec": {
   "display_name": "Python 3",
   "language": "python",
   "name": "python3"
  },
  "language_info": {
   "codemirror_mode": {
    "name": "ipython",
    "version": 3
   },
   "file_extension": ".py",
   "mimetype": "text/x-python",
   "name": "python",
   "nbconvert_exporter": "python",
   "pygments_lexer": "ipython3",
   "version": "3.7.0"
  }
 },
 "nbformat": 4,
 "nbformat_minor": 2
}
